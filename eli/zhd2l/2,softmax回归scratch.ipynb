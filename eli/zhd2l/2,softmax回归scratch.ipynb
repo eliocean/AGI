{
 "cells": [
  {
   "attachments": {},
   "cell_type": "markdown",
   "metadata": {
    "collapsed": false
   },
   "source": [
    "# softmax回归的从零实现"
   ]
  },
  {
   "cell_type": "code",
   "execution_count": null,
   "metadata": {},
   "outputs": [],
   "source": [
    "import torch\n",
    "from IPython import display\n",
    "from d2l import torch as d2l"
   ]
  },
  {
   "cell_type": "code",
   "execution_count": null,
   "metadata": {
    "ExecuteTime": {
     "end_time": "2023-05-28T10:47:35.661726400Z",
     "start_time": "2023-05-28T10:47:35.609629300Z"
    },
    "collapsed": false
   },
   "outputs": [],
   "source": [
    "batch_size = 256\n",
    "train_iter, test_iter = d2l.load_data_fashion_mnist(batch_size)\n"
   ]
  },
  {
   "cell_type": "code",
   "execution_count": null,
   "metadata": {
    "ExecuteTime": {
     "end_time": "2023-05-28T10:47:35.688771600Z",
     "start_time": "2023-05-28T10:47:35.654713700Z"
    },
    "collapsed": false
   },
   "outputs": [],
   "source": [
    "# 初始化模型参数\n",
    "num_inputs = 28 * 28\n",
    "num_outputs = 10\n",
    "\n",
    "W = torch.normal(0, 0.01, size=(num_inputs, num_outputs), requires_grad=True)\n",
    "b = torch.zeros(num_outputs, requires_grad=True)"
   ]
  },
  {
   "cell_type": "code",
   "execution_count": null,
   "metadata": {
    "ExecuteTime": {
     "end_time": "2023-05-28T10:47:35.698796700Z",
     "start_time": "2023-05-28T10:47:35.687770700Z"
    },
    "collapsed": false
   },
   "outputs": [],
   "source": [
    "# 定义softmax操作\n",
    "def softmax(X):\n",
    "    X_exp = torch.exp(X)\n",
    "    partition = X_exp.sum(1, keepdim=True)\n",
    "    \"\"\"\n",
    "    注意，虽然这在数学上看起来是正确的，但我们在代码实现中有点草率。\n",
    "    矩阵中的非常大或非常小的元素可能造成数值上溢或下溢，但我们没有采取措施来防止这点。\n",
    "    例如：exp(50)=?,exp(5000)=?(OverflowError: math range error)\n",
    "    为了缓解这种数值稳定性问题，通常采用对输入进行平移或缩放操作来避免指数函数中出现过大或过小的值。\n",
    "    常见的方法包括使用log-sum-exp技巧或将输入值减去最大值等。\n",
    "    \"\"\"\n",
    "    return X_exp / partition  # 这里应用了广播机制\n",
    "\n",
    "# 测试\n",
    "X = torch.normal(0, 1, (2, 5))\n",
    "X_prob = softmax(X)\n",
    "X_prob, X_prob.sum(1)"
   ]
  },
  {
   "cell_type": "code",
   "execution_count": null,
   "metadata": {},
   "outputs": [],
   "source": [
    "# 定义模型\n",
    "def net(X):\n",
    "    return softmax(torch.matmul(X.reshape((-1, W.shape[0])), W) + b)"
   ]
  },
  {
   "cell_type": "code",
   "execution_count": null,
   "metadata": {
    "ExecuteTime": {
     "end_time": "2023-05-28T10:47:35.745419200Z",
     "start_time": "2023-05-28T10:47:35.702826400Z"
    },
    "collapsed": false
   },
   "outputs": [],
   "source": [
    "# 定义损失函数，交叉熵损失函数\n",
    "def cross_entropy(y_hat, y):\n",
    "    return - torch.log(y_hat[range(len(y_hat)), y])\n",
    "\"\"\"\n",
    "函数cross_entropy的实现可能存在问题，具体取决于其如何处理输入数据。\n",
    "交叉熵损失函数的定义包括取对数操作，因此需要注意对数函数的定义域。\n",
    "如果输入数据中包含非正值（即小于等于零的值），那么对这些值取对数将导致错误或异常。\n",
    "因此，在实现交叉熵损失函数时需要特别注意对输入数据进行预处理，以确保其不包含非正值。\n",
    "\"\"\"\n",
    "\n",
    "# 计算预测正确的数量\n",
    "def accuracy(y_hat, y):\n",
    "    \"\"\"计算预测正确的数量\"\"\"\n",
    "    if len(y_hat.shape) > 1 and y_hat.shape[1] > 1:\n",
    "        y_hat = y_hat.argmax(axis=1)  # 在指定维度上返回张量中最大值所在的索引\n",
    "    cmp = y_hat.type(y.dtype) == y  # 类型转换为同一类别int，再进行比较是否相等\n",
    "    return float(cmp.type(y.dtype).sum())\n",
    "\n",
    "\n",
    "# test\n",
    "y = torch.tensor([0, 2])  # 假设真是标签是0,2\n",
    "y_hat = torch.tensor([[0.1, 0.3, 0.6], [0.3, 0.2, 0.5]])  # 假设预测结果\n",
    "print(\"真实标签的预测概率：\", y_hat[[0, 1], y])\n",
    "print(\"cross_entropy=\", cross_entropy(y_hat, y))\n",
    "print(\"计算预测正确的数量：\", accuracy(y_hat, y))"
   ]
  },
  {
   "cell_type": "code",
   "execution_count": null,
   "metadata": {},
   "outputs": [],
   "source": [
    "# 计算估计准确度\n",
    "def evaluate_accuracy(net, data_iter):\n",
    "    \"\"\"计算在指定数据集上模型的精度\"\"\"\n",
    "    if isinstance(net, torch.nn.Module):\n",
    "        net.eval()  # 将模型设置为评估模式\n",
    "    metric = d2l.Accumulator(2)  # 正确预测数、预测总数\n",
    "    with torch.no_grad():\n",
    "        for X, y in data_iter:\n",
    "            metric.add(accuracy(net(X), y), y.numel())\n",
    "    return metric[0] / metric[1]"
   ]
  },
  {
   "cell_type": "code",
   "execution_count": null,
   "metadata": {
    "ExecuteTime": {
     "end_time": "2023-05-28T10:47:35.791018400Z",
     "start_time": "2023-05-28T10:47:35.761465600Z"
    },
    "collapsed": false
   },
   "outputs": [],
   "source": [
    "# 训练\n",
    "def train_epoch_ch3(net, train_iter, loss, updater):\n",
    "    \"\"\"训练模型一个迭代周期\"\"\"\n",
    "    # 将模型设置为训练模式\n",
    "    if isinstance(net, torch.nn.Module):\n",
    "        net.train()  # 如果是torch.nn.Module, 将模型设置为训练模式\n",
    "    metric = d2l.Accumulator(3)  # 训练损失总和、训练准确数量总和、样本数\n",
    "    for X, y in train_iter:\n",
    "        # 计算梯度并更新参数\n",
    "        y_hat = net(X)\n",
    "        l = loss(y_hat, y)\n",
    "        if isinstance(updater, torch.optim.Optimizer):\n",
    "            # 使用PyTorch内置的优化器和损失函数\n",
    "            updater.zero_grad()\n",
    "            l.mean().backward() # 使用mean()，就不需要再除以batch_size了\n",
    "            updater.step()\n",
    "        else:\n",
    "            # 使用自定义的优化器和损失函数\n",
    "            l.sum().backward() # 此处使用sum()，需要再除以batch_size\n",
    "            updater(X.shape[0]) # X.shape[0] 为 batch_size\n",
    "        metric.add(float(l.sum()), accuracy(y_hat, y), y.numel())\n",
    "    # 返回训练损失和训练正确率【训练损失总和/样本数】，【训练准确数量总和/样本数】\n",
    "    return metric[0] / metric[2], metric[1] / metric[2]"
   ]
  },
  {
   "cell_type": "code",
   "execution_count": null,
   "metadata": {
    "collapsed": false
   },
   "outputs": [],
   "source": [
    "# 训练\n",
    "def train_ch3(net, train_iter, test_iter, loss, num_epochs, updater):\n",
    "    \"\"\"训练模型（定义见第3章）\"\"\"\n",
    "    animator = d2l.Animator(xlabel='epoch', xlim=[1, num_epochs], ylim=[0.3, 0.9],\n",
    "                        legend=['train loss', 'train acc', 'test acc'])\n",
    "    for epoch in range(num_epochs):\n",
    "        train_metrics = train_epoch_ch3(net, train_iter, loss, updater)\n",
    "        test_acc = evaluate_accuracy(net, test_iter)\n",
    "        animator.add(epoch + 1, train_metrics + (test_acc,))\n",
    "        # train_loss, train_acc = train_metrics\n",
    "    train_loss, train_acc = train_metrics\n",
    "    print(\"最终结果：\\n\"\n",
    "          \"train_loss={:.4f},train_acc={:.4f},test_acc={:.4f}\".format(train_loss, train_acc, test_acc))\n",
    "    assert train_loss < 0.5, train_loss  # 最终训练结果，train_loss 应该小于0.5\n",
    "    assert train_acc <= 1 and train_acc > 0.5, train_acc  # 最终训练结果，train_acc 应该大于0.5\n",
    "    assert test_acc <= 1 and test_acc > 0.5, test_acc  # 最终训练结果，test_acc 应该大于0.5\n"
   ]
  },
  {
   "cell_type": "code",
   "execution_count": null,
   "metadata": {},
   "outputs": [],
   "source": [
    "lr = 0.05  # 学习率\n",
    "\n",
    "\n",
    "def sgd(params, lr, batch_size):\n",
    "    \"\"\"小批量随机梯度下降 sgd算法\"\"\"\n",
    "    with torch.no_grad():\n",
    "        for param in params:\n",
    "            param -= lr * param.grad / batch_size\n",
    "            param.grad.zero_()\n",
    "\n",
    "\n",
    "def updater(batch_size):  # 更新参数\n",
    "    return sgd([W, b], lr, batch_size)\n"
   ]
  },
  {
   "cell_type": "code",
   "execution_count": null,
   "metadata": {},
   "outputs": [],
   "source": [
    "num_epochs = 10\n",
    "train_ch3(net, train_iter, test_iter, cross_entropy, num_epochs, updater)"
   ]
  },
  {
   "cell_type": "code",
   "execution_count": null,
   "metadata": {
    "ExecuteTime": {
     "end_time": "2023-05-28T10:48:46.229382100Z",
     "start_time": "2023-05-28T10:48:43.286448900Z"
    },
    "collapsed": false
   },
   "outputs": [],
   "source": [
    "# 预测\n",
    "def predict_ch3(net, test_iter, n=6):\n",
    "    \"\"\"预测标签（定义见第3章）\"\"\"\n",
    "    metric = d2l.Accumulator(2)  # 正确预测数、预测总数\n",
    "    for X, y in test_iter:\n",
    "        y_hat = net(X)\n",
    "        metric.add(accuracy(y_hat, y), y.numel())  # numel()获取张量中元素的总数\n",
    "\n",
    "    trues = d2l.get_fashion_mnist_labels(y)\n",
    "    preds = d2l.get_fashion_mnist_labels(net(X).argmax(axis=1))\n",
    "    titles = [\"{}\\n[{}]\".format(true, pred) for true, pred in zip(trues, preds)]\n",
    "    d2l.show_images(X[0:n].reshape((n, 28, 28)), 1, n, titles=titles[0:n])\n",
    "    print(\"预测准确度：{}/{}={}\".format(metric[0], metric[1], metric[0] / metric[1]))\n",
    "\n",
    "\n",
    "predict_ch3(net, test_iter)"
   ]
  }
 ],
 "metadata": {
  "kernelspec": {
   "display_name": "Python 3",
   "language": "python",
   "name": "python3"
  },
  "language_info": {
   "codemirror_mode": {
    "name": "ipython",
    "version": 3
   },
   "file_extension": ".py",
   "mimetype": "text/x-python",
   "name": "python",
   "nbconvert_exporter": "python",
   "pygments_lexer": "ipython3",
   "version": "3.9.16"
  }
 },
 "nbformat": 4,
 "nbformat_minor": 0
}
